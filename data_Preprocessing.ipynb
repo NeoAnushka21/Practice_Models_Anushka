{
  "nbformat": 4,
  "nbformat_minor": 0,
  "metadata": {
    "colab": {
      "name": "data_Preprocessing.ipynb",
      "provenance": [],
      "authorship_tag": "ABX9TyO85VCuNcf2QtSN3a0mx+Mp",
      "include_colab_link": true
    },
    "kernelspec": {
      "name": "python3",
      "display_name": "Python 3"
    },
    "language_info": {
      "name": "python"
    }
  },
  "cells": [
    {
      "cell_type": "markdown",
      "metadata": {
        "id": "view-in-github",
        "colab_type": "text"
      },
      "source": [
        "<a href=\"https://colab.research.google.com/github/NeoAnushka21/Practice_Models_Anushka/blob/main/data_Preprocessing.ipynb\" target=\"_parent\"><img src=\"https://colab.research.google.com/assets/colab-badge.svg\" alt=\"Open In Colab\"/></a>"
      ]
    },
    {
      "cell_type": "code",
      "execution_count": null,
      "metadata": {
        "id": "MBuInLpzsKdz"
      },
      "outputs": [],
      "source": [
        "import numpy as np\n",
        "import pandas as pd\n",
        "import matplotlib.pyplot as plt"
      ]
    },
    {
      "cell_type": "code",
      "source": [
        "dataset=pd.read_csv('Data(1).csv')\n",
        "X=dataset.iloc[:,:-1].values\n",
        "y=dataset.iloc[:,-1]"
      ],
      "metadata": {
        "id": "1ufufWkhsQ09"
      },
      "execution_count": null,
      "outputs": []
    },
    {
      "cell_type": "code",
      "source": [
        "print(X)"
      ],
      "metadata": {
        "id": "cRAllJ9ysR4u",
        "colab": {
          "base_uri": "https://localhost:8080/"
        },
        "outputId": "164eaccd-151a-4ca0-ec45-3b2e293eaf1b"
      },
      "execution_count": null,
      "outputs": [
        {
          "output_type": "stream",
          "name": "stdout",
          "text": [
            "[['8th Class' 12.0 90.0]\n",
            " ['9th class' 11.0 85.0]\n",
            " ['7th class' 13.0 nan]\n",
            " ['7th class' 11.0 53.0]\n",
            " ['9th class' 12.0 45.0]\n",
            " ['8th Class' 12.0 33.0]\n",
            " ['8th Class' 10.0 63.0]\n",
            " ['7th class' 14.0 89.0]\n",
            " ['9th class' 12.0 30.0]\n",
            " ['8th Class' nan 42.0]\n",
            " ['9th class' 11.0 67.0]\n",
            " ['7th class' 13.0 31.0]\n",
            " ['7th class' 12.0 45.0]\n",
            " ['8th Class' 13.0 32.0]\n",
            " ['9th class' 14.0 nan]\n",
            " ['9th class' 11.0 64.0]\n",
            " ['7th class' nan 34.0]\n",
            " ['8th Class' 9.0 51.0]\n",
            " ['9th class' 10.0 73.0]\n",
            " ['7th class' 9.0 88.0]]\n"
          ]
        }
      ]
    },
    {
      "cell_type": "code",
      "source": [
        "print(y)"
      ],
      "metadata": {
        "id": "nLM0k8fcsR_f",
        "colab": {
          "base_uri": "https://localhost:8080/"
        },
        "outputId": "fe173f2f-898f-49f4-ee35-44a554f130cc"
      },
      "execution_count": null,
      "outputs": [
        {
          "output_type": "stream",
          "name": "stdout",
          "text": [
            "0     pass\n",
            "1     pass\n",
            "2     pass\n",
            "3     pass\n",
            "4     pass\n",
            "5     fail\n",
            "6     pass\n",
            "7     pass\n",
            "8     fail\n",
            "9     pass\n",
            "10    pass\n",
            "11    fail\n",
            "12    pass\n",
            "13    fail\n",
            "14    pass\n",
            "15    pass\n",
            "16    fail\n",
            "17    pass\n",
            "18    pass\n",
            "19    pass\n",
            "Name: Result, dtype: object\n"
          ]
        }
      ]
    },
    {
      "cell_type": "code",
      "source": [
        "from sklearn.impute import SimpleImputer\n",
        "imputer=SimpleImputer(missing_values=np.nan,strategy='mean')\n",
        "imputer.fit(X[:,1:3])\n",
        "X[:,1:3]=imputer.transform(X[:,1:3])"
      ],
      "metadata": {
        "id": "cTvc-1IssSJo"
      },
      "execution_count": null,
      "outputs": []
    },
    {
      "cell_type": "code",
      "source": [
        "print(X)"
      ],
      "metadata": {
        "id": "Bk30Xy2TsSUr",
        "colab": {
          "base_uri": "https://localhost:8080/"
        },
        "outputId": "8bad2fb5-2b2d-4277-a14c-e4e924dd6364"
      },
      "execution_count": null,
      "outputs": [
        {
          "output_type": "stream",
          "name": "stdout",
          "text": [
            "[['8th Class' 12.0 90.0]\n",
            " ['9th class' 11.0 85.0]\n",
            " ['7th class' 13.0 56.388888888888886]\n",
            " ['7th class' 11.0 53.0]\n",
            " ['9th class' 12.0 45.0]\n",
            " ['8th Class' 12.0 33.0]\n",
            " ['8th Class' 10.0 63.0]\n",
            " ['7th class' 14.0 89.0]\n",
            " ['9th class' 12.0 30.0]\n",
            " ['8th Class' 11.61111111111111 42.0]\n",
            " ['9th class' 11.0 67.0]\n",
            " ['7th class' 13.0 31.0]\n",
            " ['7th class' 12.0 45.0]\n",
            " ['8th Class' 13.0 32.0]\n",
            " ['9th class' 14.0 56.388888888888886]\n",
            " ['9th class' 11.0 64.0]\n",
            " ['7th class' 11.61111111111111 34.0]\n",
            " ['8th Class' 9.0 51.0]\n",
            " ['9th class' 10.0 73.0]\n",
            " ['7th class' 9.0 88.0]]\n"
          ]
        }
      ]
    },
    {
      "cell_type": "code",
      "source": [
        "from sklearn.compose import ColumnTransformer\n",
        "from sklearn.preprocessing import OneHotEncoder\n",
        "ct = ColumnTransformer(transformers=[('encoder', OneHotEncoder(), [0])], remainder='passthrough')\n",
        "X = np.array(ct.fit_transform(X))"
      ],
      "metadata": {
        "id": "-ptMNhEMseJ0"
      },
      "execution_count": null,
      "outputs": []
    },
    {
      "cell_type": "code",
      "source": [
        "from sklearn.preprocessing import LabelEncoder\n",
        "le = LabelEncoder()\n",
        "y = le.fit_transform(y)"
      ],
      "metadata": {
        "id": "IAsdRfVTseTB"
      },
      "execution_count": null,
      "outputs": []
    },
    {
      "cell_type": "code",
      "source": [
        "print(y)"
      ],
      "metadata": {
        "id": "ButYSPNjseZP",
        "colab": {
          "base_uri": "https://localhost:8080/"
        },
        "outputId": "1bc8855a-7e2f-4f08-e5a8-c9a48f97f97a"
      },
      "execution_count": null,
      "outputs": [
        {
          "output_type": "stream",
          "name": "stdout",
          "text": [
            "[1 1 1 1 1 0 1 1 0 1 1 0 1 0 1 1 0 1 1 1]\n"
          ]
        }
      ]
    },
    {
      "cell_type": "code",
      "source": [
        "from sklearn.model_selection import train_test_split\n",
        "X_train, X_test, y_train, y_test = train_test_split(X, y, test_size = 0.2, random_state = 1)"
      ],
      "metadata": {
        "id": "9uCOszQNseke"
      },
      "execution_count": null,
      "outputs": []
    },
    {
      "cell_type": "code",
      "source": [
        "print(X_train)"
      ],
      "metadata": {
        "id": "pfKkzCqJsr9u",
        "colab": {
          "base_uri": "https://localhost:8080/"
        },
        "outputId": "6166be84-8770-43be-e2cc-299ab95e85f6"
      },
      "execution_count": null,
      "outputs": [
        {
          "output_type": "stream",
          "name": "stdout",
          "text": [
            "[[1.0 0.0 0.0 13.0 56.388888888888886]\n",
            " [0.0 0.0 1.0 14.0 56.388888888888886]\n",
            " [0.0 0.0 1.0 12.0 45.0]\n",
            " [0.0 1.0 0.0 9.0 51.0]\n",
            " [1.0 0.0 0.0 14.0 89.0]\n",
            " [0.0 0.0 1.0 11.0 85.0]\n",
            " [0.0 1.0 0.0 13.0 32.0]\n",
            " [0.0 1.0 0.0 12.0 90.0]\n",
            " [1.0 0.0 0.0 9.0 88.0]\n",
            " [0.0 0.0 1.0 10.0 73.0]\n",
            " [0.0 1.0 0.0 11.61111111111111 42.0]\n",
            " [0.0 0.0 1.0 11.0 64.0]\n",
            " [0.0 0.0 1.0 12.0 30.0]\n",
            " [1.0 0.0 0.0 12.0 45.0]\n",
            " [1.0 0.0 0.0 13.0 31.0]\n",
            " [0.0 1.0 0.0 12.0 33.0]]\n"
          ]
        }
      ]
    },
    {
      "cell_type": "code",
      "source": [
        "print(X_test)"
      ],
      "metadata": {
        "id": "8-fSPi5GssDy",
        "colab": {
          "base_uri": "https://localhost:8080/"
        },
        "outputId": "dbb3f417-d01f-4660-8ef8-07fe1f665ed8"
      },
      "execution_count": null,
      "outputs": [
        {
          "output_type": "stream",
          "name": "stdout",
          "text": [
            "[[1.0 0.0 0.0 11.0 53.0]\n",
            " [1.0 0.0 0.0 11.61111111111111 34.0]\n",
            " [0.0 1.0 0.0 10.0 63.0]\n",
            " [0.0 0.0 1.0 11.0 67.0]]\n"
          ]
        }
      ]
    },
    {
      "cell_type": "code",
      "source": [
        "print(y_train)"
      ],
      "metadata": {
        "id": "qmT3y0w8ssKo",
        "colab": {
          "base_uri": "https://localhost:8080/"
        },
        "outputId": "ca791d71-af10-40d3-8866-a65c81f9ba27"
      },
      "execution_count": null,
      "outputs": [
        {
          "output_type": "stream",
          "name": "stdout",
          "text": [
            "[1 1 1 1 1 1 0 1 1 1 1 1 0 1 0 0]\n"
          ]
        }
      ]
    },
    {
      "cell_type": "code",
      "source": [
        "print(y_test)"
      ],
      "metadata": {
        "id": "dkyUPGoxssRm",
        "colab": {
          "base_uri": "https://localhost:8080/"
        },
        "outputId": "4674e973-843c-445e-8b80-9fc490cade6d"
      },
      "execution_count": null,
      "outputs": [
        {
          "output_type": "stream",
          "name": "stdout",
          "text": [
            "[1 0 1 1]\n"
          ]
        }
      ]
    },
    {
      "cell_type": "code",
      "source": [
        "from sklearn.preprocessing import StandardScaler\n",
        "sc = StandardScaler()\n",
        "X_train[:, 3:] = sc.fit_transform(X_train[:, 3:])\n",
        "X_test[:, 3:] = sc.transform(X_test[:, 3:])"
      ],
      "metadata": {
        "id": "sOINsW--s5S4"
      },
      "execution_count": null,
      "outputs": []
    },
    {
      "cell_type": "code",
      "source": [
        "print(X_train)"
      ],
      "metadata": {
        "id": "smv4XdOus5Ue",
        "colab": {
          "base_uri": "https://localhost:8080/"
        },
        "outputId": "564e4927-646e-4f11-b984-f035abae20bc"
      },
      "execution_count": null,
      "outputs": [
        {
          "output_type": "stream",
          "name": "stdout",
          "text": [
            "[[1.0 0.0 0.0 0.826043022729018 -0.025001877899628218]\n",
            " [0.0 0.0 1.0 1.507706032889354 -0.025001877899628218]\n",
            " [0.0 0.0 1.0 0.1443800125686821 -0.5575094071904046]\n",
            " [0.0 1.0 0.0 -1.9006090179123256 -0.2769688551738004]\n",
            " [1.0 0.0 0.0 1.507706032889354 1.4997879742646931]\n",
            " [0.0 0.0 1.0 -0.5372829975916538 1.3127609395869568]\n",
            " [0.0 1.0 0.0 0.826043022729018 -1.1653472698930472]\n",
            " [0.0 1.0 0.0 0.1443800125686821 1.546544732934127]\n",
            " [1.0 0.0 0.0 -1.9006090179123256 1.453031215595259]\n",
            " [0.0 0.0 1.0 -1.2189460077519896 0.7516798355537485]\n",
            " [0.0 1.0 0.0 -0.12071115804922655 -0.6977796831987068]\n",
            " [0.0 0.0 1.0 -0.5372829975916538 0.33086900752884213]\n",
            " [0.0 0.0 1.0 0.1443800125686821 -1.2588607872319153]\n",
            " [1.0 0.0 0.0 0.1443800125686821 -0.5575094071904046]\n",
            " [1.0 0.0 0.0 0.826043022729018 -1.2121040285624811]\n",
            " [0.0 1.0 0.0 0.1443800125686821 -1.1185905112236132]]\n"
          ]
        }
      ]
    },
    {
      "cell_type": "code",
      "source": [
        "print(X_test)"
      ],
      "metadata": {
        "id": "rES9DJ8Vs968",
        "colab": {
          "base_uri": "https://localhost:8080/"
        },
        "outputId": "bce570a9-1b0d-4406-b26e-6f7832caf349"
      },
      "execution_count": null,
      "outputs": [
        {
          "output_type": "stream",
          "name": "stdout",
          "text": [
            "[[1.0 0.0 0.0 -0.5372829975916538 -0.1834553378349323]\n",
            " [1.0 0.0 0.0 -0.12071115804922655 -1.071833752554179]\n",
            " [0.0 1.0 0.0 -1.2189460077519896 0.28411224885940806]\n",
            " [0.0 0.0 1.0 -0.5372829975916538 0.47113928353714424]]\n"
          ]
        }
      ]
    }
  ]
}